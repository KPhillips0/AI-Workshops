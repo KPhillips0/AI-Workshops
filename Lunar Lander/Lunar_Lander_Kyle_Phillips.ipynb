{
  "nbformat": 4,
  "nbformat_minor": 0,
  "metadata": {
    "colab": {
      "provenance": []
    },
    "kernelspec": {
      "name": "python3",
      "display_name": "Python 3"
    },
    "language_info": {
      "name": "python"
    }
  },
  "cells": [
    {
      "cell_type": "code",
      "source": [
        "!apt-get install -y xvfb python-opengl ffmpeg > /dev/null 2>&1\n",
        "!pip3 install -U colabgymrender\n",
        "!pip3 install imageio==2.5\n",
        "!pip install pygame"
      ],
      "metadata": {
        "colab": {
          "base_uri": "https://localhost:8080/"
        },
        "id": "ILCg9FCiKLhK",
        "outputId": "42139f92-addd-4be3-a437-6a622f4a8973"
      },
      "execution_count": 1,
      "outputs": [
        {
          "output_type": "stream",
          "name": "stdout",
          "text": [
            "Looking in indexes: https://pypi.org/simple, https://us-python.pkg.dev/colab-wheels/public/simple/\n",
            "Requirement already satisfied: colabgymrender in /usr/local/lib/python3.9/dist-packages (1.1.0)\n",
            "Requirement already satisfied: moviepy in /usr/local/lib/python3.9/dist-packages (from colabgymrender) (1.0.3)\n",
            "Requirement already satisfied: requests<3.0,>=2.8.1 in /usr/local/lib/python3.9/dist-packages (from moviepy->colabgymrender) (2.27.1)\n",
            "Collecting imageio<3.0,>=2.5\n",
            "  Using cached imageio-2.27.0-py3-none-any.whl (3.4 MB)\n",
            "Requirement already satisfied: decorator<5.0,>=4.0.2 in /usr/local/lib/python3.9/dist-packages (from moviepy->colabgymrender) (4.4.2)\n",
            "Requirement already satisfied: tqdm<5.0,>=4.11.2 in /usr/local/lib/python3.9/dist-packages (from moviepy->colabgymrender) (4.65.0)\n",
            "Requirement already satisfied: proglog<=1.0.0 in /usr/local/lib/python3.9/dist-packages (from moviepy->colabgymrender) (0.1.10)\n",
            "Requirement already satisfied: numpy>=1.17.3 in /usr/local/lib/python3.9/dist-packages (from moviepy->colabgymrender) (1.22.4)\n",
            "Requirement already satisfied: imageio-ffmpeg>=0.2.0 in /usr/local/lib/python3.9/dist-packages (from moviepy->colabgymrender) (0.4.8)\n",
            "Requirement already satisfied: pillow>=8.3.2 in /usr/local/lib/python3.9/dist-packages (from imageio<3.0,>=2.5->moviepy->colabgymrender) (8.4.0)\n",
            "Requirement already satisfied: urllib3<1.27,>=1.21.1 in /usr/local/lib/python3.9/dist-packages (from requests<3.0,>=2.8.1->moviepy->colabgymrender) (1.26.15)\n",
            "Requirement already satisfied: certifi>=2017.4.17 in /usr/local/lib/python3.9/dist-packages (from requests<3.0,>=2.8.1->moviepy->colabgymrender) (2022.12.7)\n",
            "Requirement already satisfied: idna<4,>=2.5 in /usr/local/lib/python3.9/dist-packages (from requests<3.0,>=2.8.1->moviepy->colabgymrender) (3.4)\n",
            "Requirement already satisfied: charset-normalizer~=2.0.0 in /usr/local/lib/python3.9/dist-packages (from requests<3.0,>=2.8.1->moviepy->colabgymrender) (2.0.12)\n",
            "Installing collected packages: imageio\n",
            "  Attempting uninstall: imageio\n",
            "    Found existing installation: imageio 2.4.1\n",
            "    Uninstalling imageio-2.4.1:\n",
            "      Successfully uninstalled imageio-2.4.1\n",
            "Successfully installed imageio-2.27.0\n",
            "Looking in indexes: https://pypi.org/simple, https://us-python.pkg.dev/colab-wheels/public/simple/\n",
            "Collecting imageio==2.5\n",
            "  Downloading imageio-2.5.0-py3-none-any.whl (3.3 MB)\n",
            "\u001b[2K     \u001b[90m━━━━━━━━━━━━━━━━━━━━━━━━━━━━━━━━━━━━━━━━\u001b[0m \u001b[32m3.3/3.3 MB\u001b[0m \u001b[31m32.9 MB/s\u001b[0m eta \u001b[36m0:00:00\u001b[0m\n",
            "\u001b[?25hRequirement already satisfied: pillow in /usr/local/lib/python3.9/dist-packages (from imageio==2.5) (8.4.0)\n",
            "Requirement already satisfied: numpy in /usr/local/lib/python3.9/dist-packages (from imageio==2.5) (1.22.4)\n",
            "Installing collected packages: imageio\n",
            "  Attempting uninstall: imageio\n",
            "    Found existing installation: imageio 2.27.0\n",
            "    Uninstalling imageio-2.27.0:\n",
            "      Successfully uninstalled imageio-2.27.0\n",
            "Successfully installed imageio-2.5.0\n",
            "Looking in indexes: https://pypi.org/simple, https://us-python.pkg.dev/colab-wheels/public/simple/\n",
            "Requirement already satisfied: pygame in /usr/local/lib/python3.9/dist-packages (2.1.0)\n"
          ]
        }
      ]
    },
    {
      "cell_type": "code",
      "execution_count": 2,
      "metadata": {
        "colab": {
          "base_uri": "https://localhost:8080/"
        },
        "id": "7nCs5U_zJUBl",
        "outputId": "5a4a30cf-97a9-45de-ba16-ad02b52900df"
      },
      "outputs": [
        {
          "output_type": "stream",
          "name": "stdout",
          "text": [
            "Looking in indexes: https://pypi.org/simple, https://us-python.pkg.dev/colab-wheels/public/simple/\n",
            "Requirement already satisfied: gym[box2d] in /usr/local/lib/python3.9/dist-packages (0.25.2)\n",
            "Requirement already satisfied: importlib-metadata>=4.8.0 in /usr/local/lib/python3.9/dist-packages (from gym[box2d]) (6.1.0)\n",
            "Requirement already satisfied: gym-notices>=0.0.4 in /usr/local/lib/python3.9/dist-packages (from gym[box2d]) (0.0.8)\n",
            "Requirement already satisfied: numpy>=1.18.0 in /usr/local/lib/python3.9/dist-packages (from gym[box2d]) (1.22.4)\n",
            "Requirement already satisfied: cloudpickle>=1.2.0 in /usr/local/lib/python3.9/dist-packages (from gym[box2d]) (2.2.1)\n",
            "Requirement already satisfied: box2d-py==2.3.5 in /usr/local/lib/python3.9/dist-packages (from gym[box2d]) (2.3.5)\n",
            "Requirement already satisfied: swig==4.* in /usr/local/lib/python3.9/dist-packages (from gym[box2d]) (4.1.1)\n",
            "Requirement already satisfied: pygame==2.1.0 in /usr/local/lib/python3.9/dist-packages (from gym[box2d]) (2.1.0)\n",
            "Requirement already satisfied: zipp>=0.5 in /usr/local/lib/python3.9/dist-packages (from importlib-metadata>=4.8.0->gym[box2d]) (3.15.0)\n"
          ]
        }
      ],
      "source": [
        "!pip install gym[box2d]"
      ]
    },
    {
      "cell_type": "code",
      "source": [
        "import gym\n",
        "import numpy as np\n",
        "import matplotlib.pyplot as plt\n",
        "from colabgymrender.recorder import Recorder\n",
        "import os\n",
        "import pygame\n",
        "os.environ['SDL_VIDEODRIVER']='dummy'\n",
        "pygame.display.set_mode((640,480))"
      ],
      "metadata": {
        "colab": {
          "base_uri": "https://localhost:8080/"
        },
        "id": "awsalBckJnq4",
        "outputId": "1e11717c-28b8-4867-987f-cd7f7b6fa6fd"
      },
      "execution_count": 3,
      "outputs": [
        {
          "output_type": "stream",
          "name": "stderr",
          "text": [
            "WARNING:py.warnings:/usr/local/lib/python3.9/dist-packages/moviepy/video/fx/painting.py:7: DeprecationWarning: Please use `sobel` from the `scipy.ndimage` namespace, the `scipy.ndimage.filters` namespace is deprecated.\n",
            "  from scipy.ndimage.filters import sobel\n",
            "\n"
          ]
        },
        {
          "output_type": "execute_result",
          "data": {
            "text/plain": [
              "<Surface(640x480x32 SW)>"
            ]
          },
          "metadata": {},
          "execution_count": 3
        }
      ]
    },
    {
      "cell_type": "code",
      "source": [
        "env = gym.make(\"LunarLander-v2\")\n",
        "env = Recorder(env, './video') # specific to colab\n",
        "next_state = env.reset()\n",
        "\n",
        "done = False\n",
        "while not done:\n",
        "    action = np.random.randint(4)\n",
        "    next_state, reward, done, _ = env.step(action)\n",
        "env.play() # specific to colab\n",
        "# env.close()"
      ],
      "metadata": {
        "colab": {
          "base_uri": "https://localhost:8080/",
          "height": 767
        },
        "id": "k1N4l_-4JucA",
        "outputId": "0820ea31-ab50-4861-c6c7-254e84c4672f"
      },
      "execution_count": 4,
      "outputs": [
        {
          "output_type": "stream",
          "name": "stderr",
          "text": [
            "WARNING:py.warnings:/usr/local/lib/python3.9/dist-packages/ipykernel/ipkernel.py:283: DeprecationWarning: `should_run_async` will not call `transform_cell` automatically in the future. Please pass the result to `transformed_cell` argument and any exception that happen during thetransform in `preprocessing_exc_tuple` in IPython 7.17 and above.\n",
            "  and should_run_async(code)\n",
            "\n",
            "WARNING:py.warnings:/usr/local/lib/python3.9/dist-packages/gym/core.py:317: DeprecationWarning: \u001b[33mWARN: Initializing wrapper in old step API which returns one bool instead of two. It is recommended to set `new_step_api=True` to use new step API. This will be the default behaviour in future.\u001b[0m\n",
            "  deprecation(\n",
            "\n",
            "WARNING:py.warnings:/usr/local/lib/python3.9/dist-packages/gym/wrappers/step_api_compatibility.py:39: DeprecationWarning: \u001b[33mWARN: Initializing environment in old step API which returns one bool instead of two. It is recommended to set `new_step_api=True` to use new step API. This will be the default behaviour in future.\u001b[0m\n",
            "  deprecation(\n",
            "\n",
            "WARNING:py.warnings:/usr/local/lib/python3.9/dist-packages/gym/core.py:43: DeprecationWarning: \u001b[33mWARN: The argument mode in render method is deprecated; use render_mode during environment initialization instead.\n",
            "See here for more information: https://www.gymlibrary.ml/content/api/\u001b[0m\n",
            "  deprecation(\n",
            "\n"
          ]
        },
        {
          "output_type": "stream",
          "name": "stdout",
          "text": [
            "Moviepy - Building video temp-{start}.mp4.\n",
            "Moviepy - Writing video temp-{start}.mp4\n",
            "\n"
          ]
        },
        {
          "output_type": "stream",
          "name": "stderr",
          "text": []
        },
        {
          "output_type": "stream",
          "name": "stdout",
          "text": [
            "Moviepy - Done !\n",
            "Moviepy - video ready temp-{start}.mp4\n"
          ]
        },
        {
          "output_type": "display_data",
          "data": {
            "text/plain": [
              "<IPython.core.display.Video object>"
            ],
            "text/html": [
              "<video controls  >\n",
              " <source src=\"data:video/mp4;base64,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\" type=\"video/mp4\">\n",
              " Your browser does not support the video tag.\n",
              " </video>"
            ]
          },
          "metadata": {}
        }
      ]
    },
    {
      "cell_type": "code",
      "source": [
        "LEARNING_RATE = 0.15\n",
        "DISCOUNT = 0.95\n",
        "EPISODES = 500\n",
        "BUCKET_SIZE = np.array([12, 12, 12, 12, 12, 12, 2, 2])"
      ],
      "metadata": {
        "id": "uzM2rqfXJwvI"
      },
      "execution_count": 5,
      "outputs": []
    },
    {
      "cell_type": "code",
      "source": [
        "TOTAL_EPISODES = 0 # do not change this\n",
        "env = gym.make(\"LunarLander-v2\")\n",
        "\n",
        "# get observation space and action space info\n",
        "low = env.observation_space.low\n",
        "high = env.observation_space.high\n",
        "actions = env.action_space.n\n",
        "\n",
        "# create bucket increments and intialize q-table\n",
        "discrete_inc = (high - low) / BUCKET_SIZE\n",
        "q_table = np.random.uniform(low=-8, high=5, size=(np.prod(BUCKET_SIZE), actions))\n",
        "\n",
        "# create encoding vector\n",
        "en_vec = []\n",
        "for i in range(1, len(BUCKET_SIZE)):\n",
        "    en_vec.append(np.prod(BUCKET_SIZE[i:len(BUCKET_SIZE)]))\n",
        "en_vec.append(1)\n",
        "en_vec = np.array(en_vec)\n",
        "\n",
        "# map our continuous observation space array to a single index in our q-table (aka discrete state)\n",
        "def get_discrete_state(state):\n",
        "    discrete_state = np.minimum(BUCKET_SIZE-1, (state - low)/discrete_inc)\n",
        "    return discrete_state.astype(np.int).dot(en_vec)"
      ],
      "metadata": {
        "id": "QSOAqNPJJzKp"
      },
      "execution_count": 6,
      "outputs": []
    },
    {
      "cell_type": "code",
      "source": [
        "# perform a number of iterations/episodes for our model to train on\n",
        "for episode in range(EPISODES):\n",
        "    # reset position of lander and get state\n",
        "    discrete_state = get_discrete_state(env.reset()[0])\n",
        "    done = False\n",
        "    if episode % 5 == 0:\n",
        "        print(\"episode: %d\" % episode)\n",
        "    # main while loop to run the \"game\"\n",
        "    while not done:\n",
        "        # depending on where we are and more (aka our state), get the action\n",
        "        # that would give us the highest q-value from or q-table\n",
        "        action = np.argmax(q_table[discrete_state])\n",
        "        next_state, reward, done, _ = env.step(action)\n",
        "        next_discrete_state = get_discrete_state(next_state)\n",
        "        if not done:\n",
        "            # predict the highest q-value we can achieve with our current parameters\n",
        "            max_future_q = np.max(q_table[next_discrete_state])\n",
        "            current_q = q_table[discrete_state][action]\n",
        "            # update our q-value\n",
        "            new_q = (1 - LEARNING_RATE) * current_q + LEARNING_RATE * (reward + DISCOUNT * max_future_q)\n",
        "            q_table[discrete_state][action] = new_q\n",
        "        # maybe not do\n",
        "        elif False in (abs(next_state) <= np.array([1, 0.5, 1, 0.2, 1, 1, 1, 1])):\n",
        "            q_table[discrete_state][action] += 100\n",
        "        discrete_state = next_discrete_state\n",
        "env.close()\n",
        "TOTAL_EPISODES += EPISODES"
      ],
      "metadata": {
        "colab": {
          "base_uri": "https://localhost:8080/"
        },
        "id": "Bh4vM0t-J2gp",
        "outputId": "992f9297-022e-46b7-f8fe-da4a72db39bc"
      },
      "execution_count": 7,
      "outputs": [
        {
          "output_type": "stream",
          "name": "stderr",
          "text": [
            "WARNING:py.warnings:<ipython-input-6-30d477f193d8>:23: DeprecationWarning: `np.int` is a deprecated alias for the builtin `int`. To silence this warning, use `int` by itself. Doing this will not modify any behavior and is safe. When replacing `np.int`, you may wish to use e.g. `np.int64` or `np.int32` to specify the precision. If you wish to review your current use, check the release note link for additional information.\n",
            "Deprecated in NumPy 1.20; for more details and guidance: https://numpy.org/devdocs/release/1.20.0-notes.html#deprecations\n",
            "  return discrete_state.astype(np.int).dot(en_vec)\n",
            "\n"
          ]
        },
        {
          "output_type": "stream",
          "name": "stdout",
          "text": [
            "episode: 0\n",
            "episode: 5\n",
            "episode: 10\n",
            "episode: 15\n",
            "episode: 20\n",
            "episode: 25\n",
            "episode: 30\n",
            "episode: 35\n",
            "episode: 40\n",
            "episode: 45\n",
            "episode: 50\n",
            "episode: 55\n",
            "episode: 60\n",
            "episode: 65\n",
            "episode: 70\n",
            "episode: 75\n",
            "episode: 80\n",
            "episode: 85\n",
            "episode: 90\n",
            "episode: 95\n",
            "episode: 100\n",
            "episode: 105\n",
            "episode: 110\n",
            "episode: 115\n",
            "episode: 120\n",
            "episode: 125\n",
            "episode: 130\n",
            "episode: 135\n",
            "episode: 140\n",
            "episode: 145\n",
            "episode: 150\n",
            "episode: 155\n",
            "episode: 160\n",
            "episode: 165\n",
            "episode: 170\n",
            "episode: 175\n",
            "episode: 180\n",
            "episode: 185\n",
            "episode: 190\n",
            "episode: 195\n",
            "episode: 200\n",
            "episode: 205\n",
            "episode: 210\n",
            "episode: 215\n",
            "episode: 220\n",
            "episode: 225\n",
            "episode: 230\n",
            "episode: 235\n",
            "episode: 240\n",
            "episode: 245\n",
            "episode: 250\n",
            "episode: 255\n",
            "episode: 260\n",
            "episode: 265\n",
            "episode: 270\n",
            "episode: 275\n",
            "episode: 280\n",
            "episode: 285\n",
            "episode: 290\n",
            "episode: 295\n",
            "episode: 300\n",
            "episode: 305\n",
            "episode: 310\n",
            "episode: 315\n",
            "episode: 320\n",
            "episode: 325\n",
            "episode: 330\n",
            "episode: 335\n",
            "episode: 340\n",
            "episode: 345\n",
            "episode: 350\n",
            "episode: 355\n",
            "episode: 360\n",
            "episode: 365\n",
            "episode: 370\n",
            "episode: 375\n",
            "episode: 380\n",
            "episode: 385\n",
            "episode: 390\n",
            "episode: 395\n",
            "episode: 400\n",
            "episode: 405\n",
            "episode: 410\n",
            "episode: 415\n",
            "episode: 420\n",
            "episode: 425\n",
            "episode: 430\n",
            "episode: 435\n",
            "episode: 440\n",
            "episode: 445\n",
            "episode: 450\n",
            "episode: 455\n",
            "episode: 460\n",
            "episode: 465\n",
            "episode: 470\n",
            "episode: 475\n",
            "episode: 480\n",
            "episode: 485\n",
            "episode: 490\n",
            "episode: 495\n"
          ]
        }
      ]
    },
    {
      "cell_type": "code",
      "source": [
        "# \"testing mode\" of our model\n",
        "# parameters are not updated\n",
        "test_env = gym.make(\"LunarLander-v2\")\n",
        "test_env = Recorder(test_env, './video') # specific to colab\n",
        "test_env.reset()\n",
        "print(\"trained on: %d episodes\" % TOTAL_EPISODES)\n",
        "done = False\n",
        "while not done:\n",
        "    action = np.argmax(q_table[discrete_state])\n",
        "    next_state, reward, done, _ = test_env.step(action)\n",
        "    next_discrete_state = get_discrete_state(next_state)\n",
        "    discrete_state = next_discrete_state\n",
        "test_env.play() # specific to colab\n",
        "test_env.close()"
      ],
      "metadata": {
        "colab": {
          "base_uri": "https://localhost:8080/",
          "height": 622
        },
        "id": "xjAUqNZOJ6aP",
        "outputId": "cee57d72-c294-4218-f032-c0542e4c8bc5"
      },
      "execution_count": 8,
      "outputs": [
        {
          "output_type": "stream",
          "name": "stderr",
          "text": [
            "WARNING:py.warnings:<ipython-input-6-30d477f193d8>:23: DeprecationWarning: `np.int` is a deprecated alias for the builtin `int`. To silence this warning, use `int` by itself. Doing this will not modify any behavior and is safe. When replacing `np.int`, you may wish to use e.g. `np.int64` or `np.int32` to specify the precision. If you wish to review your current use, check the release note link for additional information.\n",
            "Deprecated in NumPy 1.20; for more details and guidance: https://numpy.org/devdocs/release/1.20.0-notes.html#deprecations\n",
            "  return discrete_state.astype(np.int).dot(en_vec)\n",
            "\n"
          ]
        },
        {
          "output_type": "stream",
          "name": "stdout",
          "text": [
            "trained on: 500 episodes\n",
            "Moviepy - Building video temp-{start}.mp4.\n",
            "Moviepy - Writing video temp-{start}.mp4\n",
            "\n"
          ]
        },
        {
          "output_type": "stream",
          "name": "stderr",
          "text": []
        },
        {
          "output_type": "stream",
          "name": "stdout",
          "text": [
            "Moviepy - Done !\n",
            "Moviepy - video ready temp-{start}.mp4\n"
          ]
        },
        {
          "output_type": "display_data",
          "data": {
            "text/plain": [
              "<IPython.core.display.Video object>"
            ],
            "text/html": [
              "<video controls  >\n",
              " <source src=\"data:video/mp4;base64,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\" type=\"video/mp4\">\n",
              " Your browser does not support the video tag.\n",
              " </video>"
            ]
          },
          "metadata": {}
        }
      ]
    },
    {
      "cell_type": "code",
      "source": [
        "np.save(\"q-table\", q_table)"
      ],
      "metadata": {
        "id": "beulV-miJ8AF"
      },
      "execution_count": 9,
      "outputs": []
    },
    {
      "cell_type": "code",
      "source": [
        "f = open('q-table.npy', 'rb')\n",
        "q_table = np.load(f)\n",
        "for episode in range(EPISODES):\n",
        "    discrete_state = get_discrete_state(env.reset()[0])\n",
        "    done = False\n",
        "    if episode % 5 == 0:\n",
        "        print(\"episode: %d\" % episode)\n",
        "    while not done:\n",
        "        action = np.argmax(q_table[discrete_state])\n",
        "        next_state, reward, done, _ = env.step(action)\n",
        "        next_discrete_state = get_discrete_state(next_state)\n",
        "        if not done:\n",
        "            max_future_q = np.max(q_table[next_discrete_state])\n",
        "            current_q = q_table[discrete_state][action]\n",
        "            new_q = (1 - LEARNING_RATE) * current_q + LEARNING_RATE * (reward + DISCOUNT * max_future_q)\n",
        "            q_table[discrete_state][action] = new_q\n",
        "        discrete_state = next_discrete_state\n",
        "env.close()\n",
        "f.close()\n",
        "TOTAL_EPISODES += EPISODES"
      ],
      "metadata": {
        "colab": {
          "base_uri": "https://localhost:8080/"
        },
        "id": "MH-9iT-uJ-Fo",
        "outputId": "10bcb4af-c107-415c-e157-a319f5dd6158"
      },
      "execution_count": 10,
      "outputs": [
        {
          "output_type": "stream",
          "name": "stderr",
          "text": [
            "WARNING:py.warnings:<ipython-input-6-30d477f193d8>:23: DeprecationWarning: `np.int` is a deprecated alias for the builtin `int`. To silence this warning, use `int` by itself. Doing this will not modify any behavior and is safe. When replacing `np.int`, you may wish to use e.g. `np.int64` or `np.int32` to specify the precision. If you wish to review your current use, check the release note link for additional information.\n",
            "Deprecated in NumPy 1.20; for more details and guidance: https://numpy.org/devdocs/release/1.20.0-notes.html#deprecations\n",
            "  return discrete_state.astype(np.int).dot(en_vec)\n",
            "\n"
          ]
        },
        {
          "output_type": "stream",
          "name": "stdout",
          "text": [
            "episode: 0\n",
            "episode: 5\n",
            "episode: 10\n",
            "episode: 15\n",
            "episode: 20\n",
            "episode: 25\n",
            "episode: 30\n",
            "episode: 35\n",
            "episode: 40\n",
            "episode: 45\n",
            "episode: 50\n",
            "episode: 55\n",
            "episode: 60\n",
            "episode: 65\n",
            "episode: 70\n",
            "episode: 75\n",
            "episode: 80\n",
            "episode: 85\n",
            "episode: 90\n",
            "episode: 95\n",
            "episode: 100\n",
            "episode: 105\n",
            "episode: 110\n",
            "episode: 115\n",
            "episode: 120\n",
            "episode: 125\n",
            "episode: 130\n",
            "episode: 135\n",
            "episode: 140\n",
            "episode: 145\n",
            "episode: 150\n",
            "episode: 155\n",
            "episode: 160\n",
            "episode: 165\n",
            "episode: 170\n",
            "episode: 175\n",
            "episode: 180\n",
            "episode: 185\n",
            "episode: 190\n",
            "episode: 195\n",
            "episode: 200\n",
            "episode: 205\n",
            "episode: 210\n",
            "episode: 215\n",
            "episode: 220\n",
            "episode: 225\n",
            "episode: 230\n",
            "episode: 235\n",
            "episode: 240\n",
            "episode: 245\n",
            "episode: 250\n",
            "episode: 255\n",
            "episode: 260\n",
            "episode: 265\n",
            "episode: 270\n",
            "episode: 275\n",
            "episode: 280\n",
            "episode: 285\n",
            "episode: 290\n",
            "episode: 295\n",
            "episode: 300\n",
            "episode: 305\n",
            "episode: 310\n",
            "episode: 315\n",
            "episode: 320\n",
            "episode: 325\n",
            "episode: 330\n",
            "episode: 335\n",
            "episode: 340\n",
            "episode: 345\n",
            "episode: 350\n",
            "episode: 355\n",
            "episode: 360\n",
            "episode: 365\n",
            "episode: 370\n",
            "episode: 375\n",
            "episode: 380\n",
            "episode: 385\n",
            "episode: 390\n",
            "episode: 395\n",
            "episode: 400\n",
            "episode: 405\n",
            "episode: 410\n",
            "episode: 415\n",
            "episode: 420\n",
            "episode: 425\n",
            "episode: 430\n",
            "episode: 435\n",
            "episode: 440\n",
            "episode: 445\n",
            "episode: 450\n",
            "episode: 455\n",
            "episode: 460\n",
            "episode: 465\n",
            "episode: 470\n",
            "episode: 475\n",
            "episode: 480\n",
            "episode: 485\n",
            "episode: 490\n",
            "episode: 495\n"
          ]
        }
      ]
    }
  ]
}