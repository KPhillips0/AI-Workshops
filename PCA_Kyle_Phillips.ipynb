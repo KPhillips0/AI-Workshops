{
  "nbformat": 4,
  "nbformat_minor": 0,
  "metadata": {
    "colab": {
      "provenance": []
    },
    "kernelspec": {
      "name": "python3",
      "display_name": "Python 3"
    },
    "language_info": {
      "name": "python"
    }
  },
  "cells": [
    {
      "cell_type": "markdown",
      "source": [
        "# Introduction\n",
        "PCA is useful for reducing dimensionality. Some learning algorithms do not handle high dimensionality data very well.\n",
        "\n",
        "In this exercise, we will experiment with reducing dimensionality even though both data sets we are using work fine without PCA. \n",
        "\n",
        "PCA is also useful for removing colinearity. When we have data that is colinear, a traditional solver for linear or logistic regression will have problems with it. This is due to the fact that the matrix algebra will have a non-unique solution. Modern regression libraries can handle much of this for us and still find a solution.  \n",
        "\n",
        "In the examples in this exercise, we will start with the Iris dataset and use PCA for visualization. Next, we will take another data set and reduce the dimensionality, then show that the accuracy was not substantially impacted by the reduced number of dimensions.\n",
        "\n",
        "The data set I selected for the second part looks like it already has some transformations and normalizations applied to it so you will not notice a massive reduction in the number of features."
      ],
      "metadata": {
        "id": "a6DDqmqexa2j"
      }
    },
    {
      "cell_type": "markdown",
      "source": [
        "**Student name**:\n",
        "\n",
        "**Pair programming partner**:"
      ],
      "metadata": {
        "id": "ZGjhupdaxdr2"
      }
    },
    {
      "cell_type": "markdown",
      "source": [
        "# Step 0\n",
        "Make a copy of the notebook in your Google Drive"
      ],
      "metadata": {
        "id": "un3cIvuTtzi1"
      }
    },
    {
      "cell_type": "markdown",
      "source": [
        "# A few imports\n"
      ],
      "metadata": {
        "id": "tiv-PCeL42VX"
      }
    },
    {
      "cell_type": "code",
      "source": [
        "import pandas as pd\n",
        "from sklearn.model_selection import train_test_split\n",
        "from sklearn.linear_model import LogisticRegression\n",
        "from sklearn import preprocessing\n",
        "import numpy as np\n",
        "\n",
        "from sklearn.preprocessing import StandardScaler\n",
        "from sklearn.datasets import load_iris\n",
        "from sklearn.decomposition import PCA\n",
        "import matplotlib.pyplot as plt"
      ],
      "metadata": {
        "id": "ygXyG7t_41UV"
      },
      "execution_count": null,
      "outputs": []
    },
    {
      "cell_type": "markdown",
      "source": [
        "# Problem 1 (10 points)\n",
        "* Load the Iris dataset\n",
        "* Use PCA to reduce the dimensionality to 2 components\n",
        "* Create a scatter plot using the 2 components\n",
        "  * Color the points based on the label"
      ],
      "metadata": {
        "id": "z1rMOmrpxb4p"
      }
    },
    {
      "cell_type": "code",
      "source": [
        "df = pd.read_csv(\"https://archive.ics.uci.edu/ml/machine-learning-databases/iris/iris.data\",\n",
        "                names = ['sepal length','sepal width', 'petal length', 'petal width', 'target'])\n",
        "# print(df.to_string())\n",
        "\n",
        "#Standardizing the data using the StandardScaler()\n",
        "f = ['sepal length','sepal width', 'petal length', 'petal width']\n",
        "x = df.loc[:,f].values\n",
        "y = df.loc[:,['target']].values\n",
        "X = StandardScaler().fit_transform(x)\n",
        "# print(x)\n",
        "\n",
        "#Using PCA to tranform the dataset into 2D\n",
        "pca = PCA(n_components=2)\n",
        "PC = pca.fit_transform(x)\n",
        "#naming columns\n",
        "Pdf = pd.DataFrame(data=PC, columns = ['PC1', 'PC2'])\n",
        "# print(Pdf.to_string())\n",
        "print(Pdf['PC1'])\n",
        "\n",
        "\n",
        "#creating visualization of PC1 and PC2 \n",
        "a=[]\n",
        "for j in range(150):\n",
        "  a.append(j)\n",
        "plt.scatter(Pdf['PC1'],a, color='red')\n",
        "plt.scatter(Pdf['PC2'],a, color='blue')\n",
        "plt.show()"
      ],
      "metadata": {
        "id": "kzksI3KE4Fz5",
        "colab": {
          "base_uri": "https://localhost:8080/",
          "height": 473
        },
        "outputId": "a0326c72-4943-41e6-cbd0-4a1405968254"
      },
      "execution_count": null,
      "outputs": [
        {
          "output_type": "stream",
          "name": "stdout",
          "text": [
            "0     -2.684207\n",
            "1     -2.715391\n",
            "2     -2.889820\n",
            "3     -2.746437\n",
            "4     -2.728593\n",
            "         ...   \n",
            "145    1.944017\n",
            "146    1.525664\n",
            "147    1.764046\n",
            "148    1.901629\n",
            "149    1.389666\n",
            "Name: PC1, Length: 150, dtype: float64\n"
          ]
        },
        {
          "output_type": "display_data",
          "data": {
            "text/plain": [
              "<Figure size 432x288 with 1 Axes>"
            ],
            "image/png": "[encoded data removed]"
          },
          "metadata": {
            "needs_background": "light"
          }
        }
      ]
    },
    {
      "cell_type": "markdown",
      "source": [],
      "metadata": {
        "id": "d5ym-vmcxb65"
      }
    },
    {
      "cell_type": "markdown",
      "source": [
        "# Problem 2 (20 points)\n",
        "* Use the credit card fraud data that is stored on the shared Google drive\n",
        "* There are 29 features and 2 classes in the data.\n",
        "* Remove the Time column. It is not a useful feature\n"
      ],
      "metadata": {
        "id": "EzQz70ZSxb9Q"
      }
    },
    {
      "cell_type": "markdown",
      "source": [
        "## Read the data"
      ],
      "metadata": {
        "id": "isrjE11jxSdb"
      }
    },
    {
      "cell_type": "code",
      "execution_count": null,
      "metadata": {
        "id": "2hv4bYQhxYsE",
        "colab": {
          "base_uri": "https://localhost:8080/"
        },
        "outputId": "5bbf4c6d-cbbb-40ee-d240-ba7b09321e3e"
      },
      "outputs": [
        {
          "output_type": "stream",
          "name": "stdout",
          "text": [
            "Mounted at /content/drive\n"
          ]
        }
      ],
      "source": [
        "# Mount Google Drive\n",
        "from google.colab import drive\n",
        "drive.mount('/content/drive')\n",
        "# Change this path to where you move the file\n",
        "# https://drive.google.com/drive/folders/15Y6nCX_0LrXQNe4NTWiEV2ev4Rv3feEf\n",
        "# https://www.kaggle.com/datasets/mlg-ulb/creditcardfraud?select=creditcard.csv\n",
        "# path = \"/content/drive/Shareddrives/CS450Fall2022_Wilson/CS450 Share/CSV Files/creditcard.csv\"\n",
        "path = \"/content/drive/MyDrive/creditcard.csv\"\n",
        "# Change the path to where you copy the file\n",
        "dfFraud = pd.read_csv(path)\n",
        "dfFraud = dfFraud.drop('Time', axis=1)"
      ]
    },
    {
      "cell_type": "code",
      "source": [
        "# print(dfFraud[dfFraud['class'] == 1])\n",
        "display(dfFraud.head())"
      ],
      "metadata": {
        "id": "2L0HStY74lvS",
        "colab": {
          "base_uri": "https://localhost:8080/",
          "height": 236
        },
        "outputId": "b5d37fa2-3c9b-4657-b0a0-7ebf633a818a"
      },
      "execution_count": null,
      "outputs": [
        {
          "output_type": "display_data",
          "data": {
            "text/plain": [
              "         V1        V2        V3        V4        V5        V6        V7  \\\n",
              "0 -1.359807 -0.072781  2.536347  1.378155 -0.338321  0.462388  0.239599   \n",
              "1  1.191857  0.266151  0.166480  0.448154  0.060018 -0.082361 -0.078803   \n",
              "2 -1.358354 -1.340163  1.773209  0.379780 -0.503198  1.800499  0.791461   \n",
              "3 -0.966272 -0.185226  1.792993 -0.863291 -0.010309  1.247203  0.237609   \n",
              "4 -1.158233  0.877737  1.548718  0.403034 -0.407193  0.095921  0.592941   \n",
              "\n",
              "         V8        V9       V10  ...       V21       V22       V23       V24  \\\n",
              "0  0.098698  0.363787  0.090794  ... -0.018307  0.277838 -0.110474  0.066928   \n",
              "1  0.085102 -0.255425 -0.166974  ... -0.225775 -0.638672  0.101288 -0.339846   \n",
              "2  0.247676 -1.514654  0.207643  ...  0.247998  0.771679  0.909412 -0.689281   \n",
              "3  0.377436 -1.387024 -0.054952  ... -0.108300  0.005274 -0.190321 -1.175575   \n",
              "4 -0.270533  0.817739  0.753074  ... -0.009431  0.798278 -0.137458  0.141267   \n",
              "\n",
              "        V25       V26       V27       V28  Amount  class  \n",
              "0  0.128539 -0.189115  0.133558 -0.021053  149.62      0  \n",
              "1  0.167170  0.125895 -0.008983  0.014724    2.69      0  \n",
              "2 -0.327642 -0.139097 -0.055353 -0.059752  378.66      0  \n",
              "3  0.647376 -0.221929  0.062723  0.061458  123.50      0  \n",
              "4 -0.206010  0.502292  0.219422  0.215153   69.99      0  \n",
              "\n",
              "[5 rows x 30 columns]"
            ],
            "text/html": [
              "\n",
              "  <div id=\"df-60b86fa1-5514-4693-9cd0-a058ebcc380b\">\n",
              "    <div class=\"colab-df-container\">\n",
              "      <div>\n",
              "<style scoped>\n",
              "    .dataframe tbody tr th:only-of-type {\n",
              "        vertical-align: middle;\n",
              "    }\n",
              "\n",
              "    .dataframe tbody tr th {\n",
              "        vertical-align: top;\n",
              "    }\n",
              "\n",
              "    .dataframe thead th {\n",
              "        text-align: right;\n",
              "    }\n",
              "</style>\n",
              "<table border=\"1\" class=\"dataframe\">\n",
              "  <thead>\n",
              "    <tr style=\"text-align: right;\">\n",
              "      <th></th>\n",
              "      <th>V1</th>\n",
              "      <th>V2</th>\n",
              "      <th>V3</th>\n",
              "      <th>V4</th>\n",
              "      <th>V5</th>\n",
              "      <th>V6</th>\n",
              "      <th>V7</th>\n",
              "      <th>V8</th>\n",
              "      <th>V9</th>\n",
              "      <th>V10</th>\n",
              "      <th>...</th>\n",
              "      <th>V21</th>\n",
              "      <th>V22</th>\n",
              "      <th>V23</th>\n",
              "      <th>V24</th>\n",
              "      <th>V25</th>\n",
              "      <th>V26</th>\n",
              "      <th>V27</th>\n",
              "      <th>V28</th>\n",
              "      <th>Amount</th>\n",
              "      <th>class</th>\n",
              "    </tr>\n",
              "  </thead>\n",
              "  <tbody>\n",
              "    <tr>\n",
              "      <th>0</th>\n",
              "      <td>-1.359807</td>\n",
              "      <td>-0.072781</td>\n",
              "      <td>2.536347</td>\n",
              "      <td>1.378155</td>\n",
              "      <td>-0.338321</td>\n",
              "      <td>0.462388</td>\n",
              "      <td>0.239599</td>\n",
              "      <td>0.098698</td>\n",
              "      <td>0.363787</td>\n",
              "      <td>0.090794</td>\n",
              "      <td>...</td>\n",
              "      <td>-0.018307</td>\n",
              "      <td>0.277838</td>\n",
              "      <td>-0.110474</td>\n",
              "      <td>0.066928</td>\n",
              "      <td>0.128539</td>\n",
              "      <td>-0.189115</td>\n",
              "      <td>0.133558</td>\n",
              "      <td>-0.021053</td>\n",
              "      <td>149.62</td>\n",
              "      <td>0</td>\n",
              "    </tr>\n",
              "    <tr>\n",
              "      <th>1</th>\n",
              "      <td>1.191857</td>\n",
              "      <td>0.266151</td>\n",
              "      <td>0.166480</td>\n",
              "      <td>0.448154</td>\n",
              "      <td>0.060018</td>\n",
              "      <td>-0.082361</td>\n",
              "      <td>-0.078803</td>\n",
              "      <td>0.085102</td>\n",
              "      <td>-0.255425</td>\n",
              "      <td>-0.166974</td>\n",
              "      <td>...</td>\n",
              "      <td>-0.225775</td>\n",
              "      <td>-0.638672</td>\n",
              "      <td>0.101288</td>\n",
              "      <td>-0.339846</td>\n",
              "      <td>0.167170</td>\n",
              "      <td>0.125895</td>\n",
              "      <td>-0.008983</td>\n",
              "      <td>0.014724</td>\n",
              "      <td>2.69</td>\n",
              "      <td>0</td>\n",
              "    </tr>\n",
              "    <tr>\n",
              "      <th>2</th>\n",
              "      <td>-1.358354</td>\n",
              "      <td>-1.340163</td>\n",
              "      <td>1.773209</td>\n",
              "      <td>0.379780</td>\n",
              "      <td>-0.503198</td>\n",
              "      <td>1.800499</td>\n",
              "      <td>0.791461</td>\n",
              "      <td>0.247676</td>\n",
              "      <td>-1.514654</td>\n",
              "      <td>0.207643</td>\n",
              "      <td>...</td>\n",
              "      <td>0.247998</td>\n",
              "      <td>0.771679</td>\n",
              "      <td>0.909412</td>\n",
              "      <td>-0.689281</td>\n",
              "      <td>-0.327642</td>\n",
              "      <td>-0.139097</td>\n",
              "      <td>-0.055353</td>\n",
              "      <td>-0.059752</td>\n",
              "      <td>378.66</td>\n",
              "      <td>0</td>\n",
              "    </tr>\n",
              "    <tr>\n",
              "      <th>3</th>\n",
              "      <td>-0.966272</td>\n",
              "      <td>-0.185226</td>\n",
              "      <td>1.792993</td>\n",
              "      <td>-0.863291</td>\n",
              "      <td>-0.010309</td>\n",
              "      <td>1.247203</td>\n",
              "      <td>0.237609</td>\n",
              "      <td>0.377436</td>\n",
              "      <td>-1.387024</td>\n",
              "      <td>-0.054952</td>\n",
              "      <td>...</td>\n",
              "      <td>-0.108300</td>\n",
              "      <td>0.005274</td>\n",
              "      <td>-0.190321</td>\n",
              "      <td>-1.175575</td>\n",
              "      <td>0.647376</td>\n",
              "      <td>-0.221929</td>\n",
              "      <td>0.062723</td>\n",
              "      <td>0.061458</td>\n",
              "      <td>123.50</td>\n",
              "      <td>0</td>\n",
              "    </tr>\n",
              "    <tr>\n",
              "      <th>4</th>\n",
              "      <td>-1.158233</td>\n",
              "      <td>0.877737</td>\n",
              "      <td>1.548718</td>\n",
              "      <td>0.403034</td>\n",
              "      <td>-0.407193</td>\n",
              "      <td>0.095921</td>\n",
              "      <td>0.592941</td>\n",
              "      <td>-0.270533</td>\n",
              "      <td>0.817739</td>\n",
              "      <td>0.753074</td>\n",
              "      <td>...</td>\n",
              "      <td>-0.009431</td>\n",
              "      <td>0.798278</td>\n",
              "      <td>-0.137458</td>\n",
              "      <td>0.141267</td>\n",
              "      <td>-0.206010</td>\n",
              "      <td>0.502292</td>\n",
              "      <td>0.219422</td>\n",
              "      <td>0.215153</td>\n",
              "      <td>69.99</td>\n",
              "      <td>0</td>\n",
              "    </tr>\n",
              "  </tbody>\n",
              "</table>\n",
              "<p>5 rows × 30 columns</p>\n",
              "</div>\n",
              "      <button class=\"colab-df-convert\" onclick=\"convertToInteractive('df-60b86fa1-5514-4693-9cd0-a058ebcc380b')\"\n",
              "              title=\"Convert this dataframe to an interactive table.\"\n",
              "              style=\"display:none;\">\n",
              "        \n",
              "  <svg xmlns=\"http://www.w3.org/2000/svg\" height=\"24px\"viewBox=\"0 0 24 24\"\n",
              "       width=\"24px\">\n",
              "    <path d=\"M0 0h24v24H0V0z\" fill=\"none\"/>\n",
              "    <path d=\"M18.56 5.44l.94 2.06.94-2.06 2.06-.94-2.06-.94-.94-2.06-.94 2.06-2.06.94zm-11 1L8.5 8.5l.94-2.06 2.06-.94-2.06-.94L8.5 2.5l-.94 2.06-2.06.94zm10 10l.94 2.06.94-2.06 2.06-.94-2.06-.94-.94-2.06-.94 2.06-2.06.94z\"/><path d=\"M17.41 7.96l-1.37-1.37c-.4-.4-.92-.59-1.43-.59-.52 0-1.04.2-1.43.59L10.3 9.45l-7.72 7.72c-.78.78-.78 2.05 0 2.83L4 21.41c.39.39.9.59 1.41.59.51 0 1.02-.2 1.41-.59l7.78-7.78 2.81-2.81c.8-.78.8-2.07 0-2.86zM5.41 20L4 18.59l7.72-7.72 1.47 1.35L5.41 20z\"/>\n",
              "  </svg>\n",
              "      </button>\n",
              "      \n",
              "  <style>\n",
              "    .colab-df-container {\n",
              "      display:flex;\n",
              "      flex-wrap:wrap;\n",
              "      gap: 12px;\n",
              "    }\n",
              "\n",
              "    .colab-df-convert {\n",
              "      background-color: #E8F0FE;\n",
              "      border: none;\n",
              "      border-radius: 50%;\n",
              "      cursor: pointer;\n",
              "      display: none;\n",
              "      fill: #1967D2;\n",
              "      height: 32px;\n",
              "      padding: 0 0 0 0;\n",
              "      width: 32px;\n",
              "    }\n",
              "\n",
              "    .colab-df-convert:hover {\n",
              "      background-color: #E2EBFA;\n",
              "      box-shadow: 0px 1px 2px rgba(60, 64, 67, 0.3), 0px 1px 3px 1px rgba(60, 64, 67, 0.15);\n",
              "      fill: #174EA6;\n",
              "    }\n",
              "\n",
              "    [theme=dark] .colab-df-convert {\n",
              "      background-color: #3B4455;\n",
              "      fill: #D2E3FC;\n",
              "    }\n",
              "\n",
              "    [theme=dark] .colab-df-convert:hover {\n",
              "      background-color: #434B5C;\n",
              "      box-shadow: 0px 1px 3px 1px rgba(0, 0, 0, 0.15);\n",
              "      filter: drop-shadow(0px 1px 2px rgba(0, 0, 0, 0.3));\n",
              "      fill: #FFFFFF;\n",
              "    }\n",
              "  </style>\n",
              "\n",
              "      <script>\n",
              "        const buttonEl =\n",
              "          document.querySelector('#df-60b86fa1-5514-4693-9cd0-a058ebcc380b button.colab-df-convert');\n",
              "        buttonEl.style.display =\n",
              "          google.colab.kernel.accessAllowed ? 'block' : 'none';\n",
              "\n",
              "        async function convertToInteractive(key) {\n",
              "          const element = document.querySelector('#df-60b86fa1-5514-4693-9cd0-a058ebcc380b');\n",
              "          const dataTable =\n",
              "            await google.colab.kernel.invokeFunction('convertToInteractive',\n",
              "                                                     [key], {});\n",
              "          if (!dataTable) return;\n",
              "\n",
              "          const docLinkHtml = 'Like what you see? Visit the ' +\n",
              "            '<a target=\"_blank\" href=https://colab.research.google.com/notebooks/data_table.ipynb>data table notebook</a>'\n",
              "            + ' to learn more about interactive tables.';\n",
              "          element.innerHTML = '';\n",
              "          dataTable['output_type'] = 'display_data';\n",
              "          await google.colab.output.renderOutput(dataTable, element);\n",
              "          const docLink = document.createElement('div');\n",
              "          docLink.innerHTML = docLinkHtml;\n",
              "          element.appendChild(docLink);\n",
              "        }\n",
              "      </script>\n",
              "    </div>\n",
              "  </div>\n",
              "  "
            ]
          },
          "metadata": {}
        }
      ]
    },
    {
      "cell_type": "code",
      "source": [
        "display(dfFraud.dtypes)"
      ],
      "metadata": {
        "id": "acBQqIHS4qbv",
        "colab": {
          "base_uri": "https://localhost:8080/",
          "height": 555
        },
        "outputId": "b8090bc4-ea5a-44d7-dc53-023ea78a6bee"
      },
      "execution_count": null,
      "outputs": [
        {
          "output_type": "display_data",
          "data": {
            "text/plain": [
              "V1        float64\n",
              "V2        float64\n",
              "V3        float64\n",
              "V4        float64\n",
              "V5        float64\n",
              "V6        float64\n",
              "V7        float64\n",
              "V8        float64\n",
              "V9        float64\n",
              "V10       float64\n",
              "V11       float64\n",
              "V12       float64\n",
              "V13       float64\n",
              "V14       float64\n",
              "V15       float64\n",
              "V16       float64\n",
              "V17       float64\n",
              "V18       float64\n",
              "V19       float64\n",
              "V20       float64\n",
              "V21       float64\n",
              "V22       float64\n",
              "V23       float64\n",
              "V24       float64\n",
              "V25       float64\n",
              "V26       float64\n",
              "V27       float64\n",
              "V28       float64\n",
              "Amount    float64\n",
              "class       int64\n",
              "dtype: object"
            ]
          },
          "metadata": {}
        }
      ]
    },
    {
      "cell_type": "markdown",
      "source": [
        "## Create a model using multiple logistic regression\n",
        "* Use an 80/20 test/train split"
      ],
      "metadata": {
        "id": "NXoJF86lxaDs"
      }
    },
    {
      "cell_type": "code",
      "source": [
        "#creating my list of 'predictor variables' and 'actual variables' where actual is whether it was fraud or not -- 0 means no fraud\n",
        "predVar = dfFraud[['V1','V2','V3','V4','V5','V6','V7','V8','V9','V10','V11','V12','V13','V14',\n",
        "                  'V15','V16','V17','V18','V19','V20','V21','V22','V23','V24','V25','V26','V27','V28','Amount']]\n",
        "actual = dfFraud['class']\n",
        "\n",
        "#splitting the data -- 80/20\n",
        "X_train, X_test, Y_train, Y_test = train_test_split(predVar, actual,test_size = 0.2, random_state = 100)\n",
        "\n",
        "#creating binomial logistic regression model\n",
        "model = LogisticRegression()\n",
        "model.fit(X_train, Y_train)\n",
        "predictions = model.predict(X_test)\n",
        "\n",
        "coefficients = model.coef_  #I will need these later...i think\n",
        "# print(coefficients)"
      ],
      "metadata": {
        "id": "r5wLDcZ3x5_C",
        "colab": {
          "base_uri": "https://localhost:8080/"
        },
        "outputId": "7917effd-df30-40c3-9919-d2353fc831fb"
      },
      "execution_count": null,
      "outputs": [
        {
          "output_type": "stream",
          "name": "stderr",
          "text": [
            "/usr/local/lib/python3.9/dist-packages/sklearn/linear_model/_logistic.py:458: ConvergenceWarning: lbfgs failed to converge (status=1):\n",
            "STOP: TOTAL NO. of ITERATIONS REACHED LIMIT.\n",
            "\n",
            "Increase the number of iterations (max_iter) or scale the data as shown in:\n",
            "    https://scikit-learn.org/stable/modules/preprocessing.html\n",
            "Please also refer to the documentation for alternative solver options:\n",
            "    https://scikit-learn.org/stable/modules/linear_model.html#logistic-regression\n",
            "  n_iter_i = _check_optimize_result(\n"
          ]
        }
      ]
    },
    {
      "cell_type": "markdown",
      "source": [
        "## Test the model\n",
        "* Show the confusion matrix using test data\n",
        "* Evaluate the F1 score of the model"
      ],
      "metadata": {
        "id": "-cUYe3oiyDSH"
      }
    },
    {
      "cell_type": "code",
      "source": [
        "from sklearn.metrics import accuracy_score,confusion_matrix, ConfusionMatrixDisplay, f1_score, precision_score, recall_score\n",
        "#printing accuracy of the model\n",
        "Acc = accuracy_score(Y_test, predictions)\n",
        "# print(Acc)\n",
        "\n",
        "#creating a confusion matrix to visualize\n",
        "Conf = confusion_matrix(Y_test, predictions)\n",
        "confusion_matrix = ConfusionMatrixDisplay(confusion_matrix=Conf)\n",
        "confusion_matrix.plot()\n",
        "plt.ylabel('Fraud')\n",
        "plt.xlabel('Not Fraud')\n",
        "plt.show()\n",
        "#Top Left: True Positives -- our model thought it was fraud and it was right\n",
        "#Bottom Left: False Negatives -- our model though it was not fraud, but it was\n",
        "#Top Right: False Positives -- our model thought it was fraud, but it was not\n",
        "#Bottom Right: True Negatives -- our model though it was not fraud and it was not\n",
        "\n",
        "#calculating precision and recall\n",
        "#precision = True Positives / (True Positives + False Positives)\n",
        "#recall = True Positives / (True Positives + False Negatives)\n",
        "# precision =  56847/(56847+19) #these are wrong and I dont know why\n",
        "# recall = 56847/(56847+37)\n",
        "\n",
        "#seeing if I was correct in finding the precision and recall manually......(edit): i wasnt \n",
        "precision = precision_score(Y_test,predictions)\n",
        "recall = recall_score(Y_test,predictions)\n",
        "print(\"Precision: \",precision)\n",
        "print(\"Recall:\", recall)\n",
        "#getting f1 score from precision and recall manually...\n",
        "# f1 = 2*(precision*recall)/(precision + recall)  # this is wrong and I dont know why\n",
        "f1 = f1_score(Y_test, predictions, average='weighted')\n",
        "print(\"f1: \",f1)"
      ],
      "metadata": {
        "id": "TvJGSKsvyCnp",
        "colab": {
          "base_uri": "https://localhost:8080/",
          "height": 331
        },
        "outputId": "68acafd3-fc19-4e64-e0e6-29972a0e81fd"
      },
      "execution_count": null,
      "outputs": [
        {
          "output_type": "display_data",
          "data": {
            "text/plain": [
              "<Figure size 432x288 with 2 Axes>"
            ],
            "image/png": "[encoded data removed]"
          },
          "metadata": {
            "needs_background": "light"
          }
        },
        {
          "output_type": "stream",
          "name": "stdout",
          "text": [
            "Precision:  0.7564102564102564\n",
            "Recall: 0.6145833333333334\n",
            "f1:  0.9989661156392876\n"
          ]
        }
      ]
    },
    {
      "cell_type": "markdown",
      "source": [
        "## Transform the data using PCA\n",
        "* Reduce the feature set to the number of components that explain 90% of the variance"
      ],
      "metadata": {
        "id": "AZVZPu0kyVnE"
      }
    },
    {
      "cell_type": "markdown",
      "source": [],
      "metadata": {
        "id": "RVfO9HVOx6Xg"
      }
    },
    {
      "cell_type": "markdown",
      "source": [
        "### Show how much each original feature conributed to the remaining components\n"
      ],
      "metadata": {
        "id": "-WEbTX1nyoOA"
      }
    },
    {
      "cell_type": "code",
      "source": [
        "#creating pca with original dfFraud -- just to look at all of the variation of each principal component\n",
        "# pca=PCA(n_components=29)\n",
        "# pca.fit(predVar)\n",
        "# print(pca.explained_variance_ratio_)\n",
        "\n",
        "#creating pca only with components that explain 90% of variation\n",
        "pca = PCA(n_components=.90)\n",
        "pca_data = pca.fit_transform(predVar)\n",
        "print(\"{} Principal Components are required to explain {} of the variation in this data.\".format(pca.n_components_,0.9))\n",
        "# print(pca_data.shape)\n",
        "cumsum = np.cumsum(pca.explained_variance_ratio_)\n",
        "#printing total variance explained by the new components\n",
        "print(np.cumsum(pca.explained_variance_ratio_))\n",
        "# dim = np.arange(len(cumsum))+1\n",
        "\n",
        "# plt.plot(dim,cumsum,'-',lw=3);"
      ],
      "metadata": {
        "id": "3tVt6DADywDI",
        "colab": {
          "base_uri": "https://localhost:8080/"
        },
        "outputId": "adeb6c84-b9dc-4a90-d22b-021a143face8"
      },
      "execution_count": null,
      "outputs": [
        {
          "output_type": "stream",
          "name": "stdout",
          "text": [
            "1 Principal Components are required to explain 0.9 of the variation in this data.\n",
            "[0.99953802]\n"
          ]
        }
      ]
    },
    {
      "cell_type": "markdown",
      "source": [
        "## Split test and train data on the transformed data"
      ],
      "metadata": {
        "id": "h9C6C2NkxaGh"
      }
    },
    {
      "cell_type": "code",
      "source": [
        "X_train, X_test, Y_train, Y_test = train_test_split(pca_data, actual,test_size = 0.2, random_state = 100)"
      ],
      "metadata": {
        "id": "g95d_onAy0sB"
      },
      "execution_count": null,
      "outputs": []
    },
    {
      "cell_type": "markdown",
      "source": [
        "## Train the model using PCA transformed data"
      ],
      "metadata": {
        "id": "qvhd4DIAy08f"
      }
    },
    {
      "cell_type": "code",
      "source": [
        "model = LogisticRegression()\n",
        "model.fit(X_train, Y_train)\n",
        "predictions = model.predict(X_test)"
      ],
      "metadata": {
        "id": "O5ewzetCy4so"
      },
      "execution_count": null,
      "outputs": []
    },
    {
      "cell_type": "markdown",
      "source": [
        "## Test the model using the tranformed test data\n",
        "* Show the confusion matrix\n",
        "* Calculate the F1 score"
      ],
      "metadata": {
        "id": "bNnn9MTqy401"
      }
    },
    {
      "cell_type": "code",
      "source": [
        "from sklearn.metrics import accuracy_score,confusion_matrix, ConfusionMatrixDisplay, f1_score, precision_score, recall_score\n",
        "#printing accuracy of the model\n",
        "Acc = accuracy_score(Y_test, predictions)\n",
        "# print(Acc)\n",
        "\n",
        "#creating a confusion matrix to visualize\n",
        "Conf = confusion_matrix(Y_test, predictions)\n",
        "confusion_matrix = ConfusionMatrixDisplay(confusion_matrix=Conf)\n",
        "confusion_matrix.plot()\n",
        "plt.ylabel('Fraud')\n",
        "plt.xlabel('Not Fraud')\n",
        "plt.show()\n",
        "#Top Left: True Positives -- our model thought it was fraud and it was right\n",
        "#Bottom Left: False Negatives -- our model though it was not fraud, but it was\n",
        "#Top Right: False Positives -- our model thought it was fraud, but it was not\n",
        "#Bottom Right: True Negatives -- our model though it was not fraud and it was not\n",
        "\n",
        "#calculating precision and recall\n",
        "#precision = True Positives / (True Positives + False Positives)\n",
        "#recall = True Positives / (True Positives + False Negatives)\n",
        "# precision =  56847/(56847+19) #these are wrong and I dont know why\n",
        "# recall = 56847/(56847+37)\n",
        "\n",
        "#seeing if I was correct in finding the precision and recall manually......(edit): i wasnt \n",
        "precision = precision_score(Y_test,predictions)\n",
        "recall = recall_score(Y_test,predictions)\n",
        "print(\"Precision: \",precision)\n",
        "print(\"Recall:\", recall)\n",
        "#getting f1 score from precision and recall manually...\n",
        "# f1 = 2*(precision*recall)/(precision + recall)  # this is wrong and I dont know why\n",
        "f1 = f1_score(Y_test, predictions, average='weighted')\n",
        "print(\"f1: \",f1)"
      ],
      "metadata": {
        "id": "HkWcbNbYzBfp",
        "colab": {
          "base_uri": "https://localhost:8080/",
          "height": 366
        },
        "outputId": "af7edb9c-692a-4090-c1e6-c8775cfd206e"
      },
      "execution_count": null,
      "outputs": [
        {
          "output_type": "display_data",
          "data": {
            "text/plain": [
              "<Figure size 432x288 with 2 Axes>"
            ],
            "image/png": "[encoded data removed]"
          },
          "metadata": {
            "needs_background": "light"
          }
        },
        {
          "output_type": "stream",
          "name": "stdout",
          "text": [
            "Precision:  0.0\n",
            "Recall: 0.0\n",
            "f1:  0.9974727095630586\n"
          ]
        },
        {
          "output_type": "stream",
          "name": "stderr",
          "text": [
            "/usr/local/lib/python3.9/dist-packages/sklearn/metrics/_classification.py:1344: UndefinedMetricWarning: Precision is ill-defined and being set to 0.0 due to no predicted samples. Use `zero_division` parameter to control this behavior.\n",
            "  _warn_prf(average, modifier, msg_start, len(result))\n"
          ]
        }
      ]
    }
  ]
}