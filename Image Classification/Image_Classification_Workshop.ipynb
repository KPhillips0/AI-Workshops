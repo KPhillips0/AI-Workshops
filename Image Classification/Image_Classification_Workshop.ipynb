{
  "nbformat": 4,
  "nbformat_minor": 0,
  "metadata": {
    "colab": {
      "provenance": []
    },
    "kernelspec": {
      "name": "python3",
      "display_name": "Python 3"
    },
    "language_info": {
      "name": "python"
    }
  },
  "cells": [
    {
      "cell_type": "code",
      "execution_count": null,
      "metadata": {
        "id": "CgXaeF9CH3zA"
      },
      "outputs": [],
      "source": [
        "import tensorflow as tf\n",
        "from tensorflow import keras\n",
        "import numpy as np\n",
        "import matplotlib.pyplot as plt\n"
      ]
    },
    {
      "cell_type": "code",
      "source": [
        "(training_images, training_labels), (test_images, test_labels) = keras.datasets.fashion_mnist.load_data()\n",
        "data_names = (\"t-shirt\", \"pants\", \"pullover\", \"dress\", \"coat\", \"sandal\", \"shirt\",\"sneaker\",\"bag\",\"ankle boot\")\n",
        "training_images = keras.utils.normalize(training_images, axis=1)\n",
        "test_images = keras.utils.normalize(test_images, axis=1)\n"
      ],
      "metadata": {
        "colab": {
          "base_uri": "https://localhost:8080/"
        },
        "id": "obuG4GPzFIiB",
        "outputId": "10bea9a5-cb1f-413a-befa-8e2dce1c69ea"
      },
      "execution_count": null,
      "outputs": [
        {
          "output_type": "stream",
          "name": "stdout",
          "text": [
            "Downloading data from https://storage.googleapis.com/tensorflow/tf-keras-datasets/train-labels-idx1-ubyte.gz\n",
            "29515/29515 [==============================] - 0s 0us/step\n",
            "Downloading data from https://storage.googleapis.com/tensorflow/tf-keras-datasets/train-images-idx3-ubyte.gz\n",
            "26421880/26421880 [==============================] - 0s 0us/step\n",
            "Downloading data from https://storage.googleapis.com/tensorflow/tf-keras-datasets/t10k-labels-idx1-ubyte.gz\n",
            "5148/5148 [==============================] - 0s 0us/step\n",
            "Downloading data from https://storage.googleapis.com/tensorflow/tf-keras-datasets/t10k-images-idx3-ubyte.gz\n",
            "4422102/4422102 [==============================] - 0s 0us/step\n"
          ]
        }
      ]
    },
    {
      "cell_type": "code",
      "source": [
        "SAMPLE_INDEX = 1\n",
        "print(\"Sample %d in training dataset:\" % SAMPLE_INDEX)\n",
        "plt.imshow(training_images[SAMPLE_INDEX])\n",
        "plt.show()\n",
        "print(\"Sample label: %s\" % data_names[training_labels[SAMPLE_INDEX]])"
      ],
      "metadata": {
        "colab": {
          "base_uri": "https://localhost:8080/",
          "height": 301
        },
        "id": "ZMWaSLsQGMVf",
        "outputId": "636fdd74-d82e-4ab7-f234-39d75ccbf460"
      },
      "execution_count": null,
      "outputs": [
        {
          "output_type": "stream",
          "name": "stdout",
          "text": [
            "Sample 1 in training dataset:\n"
          ]
        },
        {
          "output_type": "display_data",
          "data": {
            "text/plain": [
              "<Figure size 432x288 with 1 Axes>"
            ],
            "image/png": "[encoded data removed]"
          },
          "metadata": {
            "needs_background": "light"
          }
        },
        {
          "output_type": "stream",
          "name": "stdout",
          "text": [
            "Sample label: t-shirt\n"
          ]
        }
      ]
    },
    {
      "cell_type": "code",
      "source": [
        "from tensorflow.python import metrics\n",
        "model = keras.Sequential()\n",
        "model.add(keras.layers.Flatten(input_shape =(28,28)))\n",
        "model.add(keras.layers.Dense(units=256,activation='relu'))\n",
        "model.add(keras.layers.Dense(units=128,activation='relu'))\n",
        "model.add(keras.layers.Dense(10,activation='softmax'))\n",
        "\n",
        "model.compile(optimizer='adam', loss='sparse_categorical_crossentropy', metrics = ['accuracy'])\n",
        "\n",
        "model.fit(training_images, training_labels,epochs=5)"
      ],
      "metadata": {
        "colab": {
          "base_uri": "https://localhost:8080/"
        },
        "id": "Ui-c7G8rGue_",
        "outputId": "44344007-c995-426f-c6cb-fe5fe5813274"
      },
      "execution_count": null,
      "outputs": [
        {
          "output_type": "stream",
          "name": "stdout",
          "text": [
            "Epoch 1/5\n",
            "1875/1875 [==============================] - 8s 4ms/step - loss: 0.4691 - accuracy: 0.8275\n",
            "Epoch 2/5\n",
            "1875/1875 [==============================] - 7s 4ms/step - loss: 0.3484 - accuracy: 0.8706\n",
            "Epoch 3/5\n",
            "1875/1875 [==============================] - 7s 3ms/step - loss: 0.3115 - accuracy: 0.8833\n",
            "Epoch 4/5\n",
            "1875/1875 [==============================] - 6s 3ms/step - loss: 0.2877 - accuracy: 0.8912\n",
            "Epoch 5/5\n",
            "1875/1875 [==============================] - 6s 3ms/step - loss: 0.2666 - accuracy: 0.8983\n"
          ]
        },
        {
          "output_type": "execute_result",
          "data": {
            "text/plain": [
              "<keras.callbacks.History at 0x7f6839b9f2b0>"
            ]
          },
          "metadata": {},
          "execution_count": 6
        }
      ]
    },
    {
      "cell_type": "code",
      "source": [
        "eval_loss, eval_accuracy = model.evaluate(test_images,test_labels)\n",
        "print(\"Test loss/cost: %.5f\" % eval_loss)\n",
        "print(\"Test accuracy: %.5f\" % eval_accuracy)"
      ],
      "metadata": {
        "colab": {
          "base_uri": "https://localhost:8080/"
        },
        "id": "ayKffY0eHLyX",
        "outputId": "e5ee8b15-03ff-4af8-bd52-806847748770"
      },
      "execution_count": null,
      "outputs": [
        {
          "output_type": "stream",
          "name": "stdout",
          "text": [
            "313/313 [==============================] - 1s 2ms/step - loss: 0.3426 - accuracy: 0.8762\n",
            "Test loss/cost: 0.34262\n",
            "Test accuracy: 0.87620\n"
          ]
        }
      ]
    },
    {
      "cell_type": "code",
      "source": [
        "predictions = model.predict(test_images)"
      ],
      "metadata": {
        "colab": {
          "base_uri": "https://localhost:8080/"
        },
        "id": "7G2vr8TkI41z",
        "outputId": "5f2710a4-08e2-4a9b-8515-1fdd1a269434"
      },
      "execution_count": null,
      "outputs": [
        {
          "output_type": "stream",
          "name": "stdout",
          "text": [
            "313/313 [==============================] - 1s 2ms/step\n"
          ]
        }
      ]
    },
    {
      "cell_type": "code",
      "source": [
        "INDEX = 35\n",
        "print(\"Sample %d in testing dataset:\" % INDEX)\n",
        "plt.imshow(test_images[INDEX])\n",
        "plt.show()\n",
        "print(\"Prediction: %s\\nActual: %s\\n\" % (data_names[np.argmax(predictions[INDEX])], data_names[test_labels[INDEX]]))"
      ],
      "metadata": {
        "colab": {
          "base_uri": "https://localhost:8080/",
          "height": 338
        },
        "id": "xWdagG5xLpuw",
        "outputId": "5bc2ebda-ec57-4f75-dea6-9bb5afd3f7fa"
      },
      "execution_count": null,
      "outputs": [
        {
          "output_type": "stream",
          "name": "stdout",
          "text": [
            "Sample 35 in testing dataset:\n"
          ]
        },
        {
          "output_type": "display_data",
          "data": {
            "text/plain": [
              "<Figure size 432x288 with 1 Axes>"
            ],
            "image/png": "[encoded data removed]"
          },
          "metadata": {
            "needs_background": "light"
          }
        },
        {
          "output_type": "stream",
          "name": "stdout",
          "text": [
            "Prediction: t-shirt\n",
            "Actual: t-shirt\n",
            "\n"
          ]
        }
      ]
    },
    {
      "cell_type": "code",
      "source": [
        "plt.title('Model Predictions')\n",
        "plt.xticks(np.arange(10), data_names, rotation=90)\n",
        "plt.yticks(np.arange(0, 1.1, .1))\n",
        "plt.ylim(0, 1)\n",
        "plot_bar = plt.bar(range(10), predictions[INDEX])\n",
        "plot_bar[np.argmax(predictions[INDEX])].set_color('red')\n",
        "plot_bar[test_labels[INDEX]].set_color('green')"
      ],
      "metadata": {
        "colab": {
          "base_uri": "https://localhost:8080/",
          "height": 324
        },
        "id": "fhof5qsfrFen",
        "outputId": "6b15230f-ba2b-4b14-b4c1-2726145a3c52"
      },
      "execution_count": null,
      "outputs": [
        {
          "output_type": "display_data",
          "data": {
            "text/plain": [
              "<Figure size 432x288 with 1 Axes>"
            ],
            "image/png": "[encoded data removed]"
          },
          "metadata": {
            "needs_background": "light"
          }
        }
      ]
    }
  ]
}